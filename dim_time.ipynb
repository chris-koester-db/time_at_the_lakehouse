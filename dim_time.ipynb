{
 "cells": [
  {
   "cell_type": "markdown",
   "metadata": {
    "application/vnd.databricks.v1+cell": {
     "cellMetadata": {
      "byteLimit": 2048000,
      "rowLimit": 10000
     },
     "inputWidgets": {},
     "nuid": "de58ebdb-6051-40e9-9948-e1001a045dc0",
     "showTitle": false,
     "tableResultSettingsMap": {},
     "title": ""
    }
   },
   "source": [
    "## Lakehouse Time Dimension\n",
    "This notebook creates a time dimension for the lakehouse.\n",
    "\n",
    "### Directions\n",
    "- Set catalog and schema\n",
    "- Update the table location.\n",
    "- Add/modify/remove columns as necessary\n",
    "- Run notebook to load the table\n",
    "\n",
    "### References\n",
    "- [Five Simple Steps for Implementing a Star Schema in Databricks With Delta Lake](https://www.databricks.com/blog/2022/05/20/five-simple-steps-for-implementing-a-star-schema-in-databricks-with-delta-lake.html)\n",
    "- [Datetime Patterns for Formatting and Parsing](https://spark.apache.org/docs/latest/sql-ref-datetime-pattern.html)"
   ]
  },
  {
   "cell_type": "code",
   "execution_count": 0,
   "metadata": {
    "application/vnd.databricks.v1+cell": {
     "cellMetadata": {
      "byteLimit": 2048000,
      "rowLimit": 10000
     },
     "inputWidgets": {},
     "nuid": "24ad7623-1d30-45bb-8603-7197330d22c3",
     "showTitle": true,
     "tableResultSettingsMap": {},
     "title": "Set Catalog & Schema"
    }
   },
   "outputs": [],
   "source": [
    "use catalog identifier(:catalog);\n",
    "use schema identifier(:schema);"
   ]
  },
  {
   "cell_type": "code",
   "execution_count": 0,
   "metadata": {
    "application/vnd.databricks.v1+cell": {
     "cellMetadata": {
      "byteLimit": 2048000,
      "rowLimit": 10000
     },
     "inputWidgets": {},
     "nuid": "d6936fc3-8c93-4b11-8289-8a3639c6192c",
     "showTitle": true,
     "tableResultSettingsMap": {},
     "title": "Load Table"
    }
   },
   "outputs": [],
   "source": [
    "create or replace table dim_time\n",
    "comment 'Time dimension'\n",
    "tblproperties ('quality' = 'gold')\n",
    "as\n",
    "with times as (\n",
    "  select explode(sequence(to_timestamp('1900-01-01 00:00'), to_timestamp('1900-01-01 23:59'), interval 1 minute)) as time\n",
    ")\n",
    "select\n",
    "  cast(date_format(time, 'HHmm') as int) as id,\n",
    "  date_format(time, 'hh:mm a') as time,\n",
    "  date_format(time, 'hh') as hour,\n",
    "  date_format(time, 'HH:mm') as time_24,\n",
    "  date_format(time, 'kk') as hour_24,\n",
    "  date_format(time, 'a') as am_pm\n",
    "from\n",
    "  times;"
   ]
  },
  {
   "cell_type": "code",
   "execution_count": 0,
   "metadata": {
    "application/vnd.databricks.v1+cell": {
     "cellMetadata": {
      "byteLimit": 2048000,
      "rowLimit": 10000
     },
     "inputWidgets": {},
     "nuid": "1c4d0b68-3415-485d-aa9e-eba0d75cbbb6",
     "showTitle": true,
     "tableResultSettingsMap": {},
     "title": "Optimize"
    }
   },
   "outputs": [],
   "source": [
    "optimize dim_time;"
   ]
  },
  {
   "cell_type": "code",
   "execution_count": 0,
   "metadata": {
    "application/vnd.databricks.v1+cell": {
     "cellMetadata": {
      "byteLimit": 2048000,
      "rowLimit": 10000
     },
     "inputWidgets": {},
     "nuid": "1e403413-d937-496d-9651-0ea12446c8d0",
     "showTitle": true,
     "tableResultSettingsMap": {},
     "title": "Collect Statistics"
    }
   },
   "outputs": [],
   "source": [
    "analyze table dim_time compute statistics for all columns;"
   ]
  },
  {
   "cell_type": "code",
   "execution_count": 0,
   "metadata": {
    "application/vnd.databricks.v1+cell": {
     "cellMetadata": {
      "byteLimit": 2048000,
      "rowLimit": 10000
     },
     "inputWidgets": {},
     "nuid": "51b6a4d7-deeb-41d9-9088-a759535ddf8f",
     "showTitle": true,
     "tableResultSettingsMap": {},
     "title": "Vacuum"
    }
   },
   "outputs": [],
   "source": [
    "vacuum dim_time;"
   ]
  }
 ],
 "metadata": {
  "application/vnd.databricks.v1+notebook": {
   "computePreferences": null,
   "dashboards": [],
   "environmentMetadata": null,
   "inputWidgetPreferences": null,
   "language": "sql",
   "notebookMetadata": {},
   "notebookName": "dim_time",
   "widgets": {
    "catalog": {
     "currentValue": "users",
     "nuid": "2c321479-e8cc-46ee-a87b-0c01e06f445b",
     "typedWidgetInfo": {
      "autoCreated": false,
      "defaultValue": "users",
      "label": "",
      "name": "catalog",
      "options": {
       "widgetDisplayType": "Text",
       "validationRegex": null
      },
      "parameterDataType": "String"
     },
     "widgetInfo": {
      "widgetType": "text",
      "defaultValue": "users",
      "label": "",
      "name": "catalog",
      "options": {
       "widgetType": "text",
       "autoCreated": false,
       "validationRegex": null
      }
     }
    },
    "schema": {
     "currentValue": "chris_koester",
     "nuid": "0fa4d5e5-6d83-46b0-ab3a-52c46b8849fc",
     "typedWidgetInfo": {
      "autoCreated": false,
      "defaultValue": "chris_koester",
      "label": "",
      "name": "schema",
      "options": {
       "widgetDisplayType": "Text",
       "validationRegex": null
      },
      "parameterDataType": "String"
     },
     "widgetInfo": {
      "widgetType": "text",
      "defaultValue": "chris_koester",
      "label": "",
      "name": "schema",
      "options": {
       "widgetType": "text",
       "autoCreated": false,
       "validationRegex": null
      }
     }
    }
   }
  },
  "language_info": {
   "name": "sql"
  }
 },
 "nbformat": 4,
 "nbformat_minor": 0
}
