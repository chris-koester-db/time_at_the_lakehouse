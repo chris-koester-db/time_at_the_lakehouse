{
 "cells": [
  {
   "cell_type": "markdown",
   "metadata": {
    "application/vnd.databricks.v1+cell": {
     "cellMetadata": {
      "byteLimit": 2048000,
      "rowLimit": 10000
     },
     "inputWidgets": {},
     "nuid": "c11e5489-4ee4-4a21-bc5c-9ca4a318e61a",
     "showTitle": false,
     "tableResultSettingsMap": {},
     "title": ""
    }
   },
   "source": [
    "## Lakehouse Calendar Dimension\n",
    "This notebook creates a calendar dimension (Also known as date dimension) for the lakehouse. It is intended to be reloaded daily, and defaults to loading data using a rolling 5 year period.\n",
    "\n",
    "### Directions\n",
    "- Set catalog and schema\n",
    "- Update the table location\n",
    "- Modify the date range as necessary by updating the dates CTE\n",
    "- Add/modify/remove columns as necessary\n",
    "- Schedule to run daily using Workflows\n",
    "\n",
    "### References\n",
    "- [Five Simple Steps for Implementing a Star Schema in Databricks With Delta Lake](https://www.databricks.com/blog/2022/05/20/five-simple-steps-for-implementing-a-star-schema-in-databricks-with-delta-lake.html)\n",
    "- [Datetime Patterns for Formatting and Parsing](https://spark.apache.org/docs/latest/sql-ref-datetime-pattern.html)"
   ]
  },
  {
   "cell_type": "code",
   "execution_count": 0,
   "metadata": {
    "application/vnd.databricks.v1+cell": {
     "cellMetadata": {
      "byteLimit": 2048000,
      "rowLimit": 10000
     },
     "inputWidgets": {},
     "nuid": "79fe65d3-808b-404d-911e-caed4ded3165",
     "showTitle": true,
     "tableResultSettingsMap": {},
     "title": "Set Catalog & Schema"
    }
   },
   "outputs": [],
   "source": [
    "use catalog identifier(:catalog);\n",
    "use schema identifier(:schema);"
   ]
  },
  {
   "cell_type": "code",
   "execution_count": 0,
   "metadata": {
    "application/vnd.databricks.v1+cell": {
     "cellMetadata": {
      "byteLimit": 2048000,
      "rowLimit": 10000
     },
     "inputWidgets": {},
     "nuid": "099477f6-9844-4164-875f-8ba32083d1f6",
     "showTitle": false,
     "tableResultSettingsMap": {},
     "title": ""
    }
   },
   "outputs": [],
   "source": [
    "create table if not exists dim_calendar (\n",
    "  date_int int not null,\n",
    "  calendar_date date,\n",
    "  calendar_year int,\n",
    "  calendar_month string,\n",
    "  month_of_year int,\n",
    "  calendar_day string,\n",
    "  day_of_week int,\n",
    "  day_of_week_start_monday int,\n",
    "  is_week_day string,\n",
    "  day_of_month int,\n",
    "  is_last_day_of_month string,\n",
    "  day_of_year int,\n",
    "  week_of_year_iso int,\n",
    "  quarter_of_year int,\n",
    "  fiscal_year_oct_to_sep int,\n",
    "  fiscal_month_oct_to_sep int,\n",
    "  fiscal_year_jul_to_jun int,\n",
    "  fiscal_month_jul_to_jun int,\n",
    "  primary key (date_int) rely\n",
    ")\n",
    "comment 'Calendar dimension'\n",
    "cluster by (date_int);"
   ]
  },
  {
   "cell_type": "code",
   "execution_count": 0,
   "metadata": {
    "application/vnd.databricks.v1+cell": {
     "cellMetadata": {
      "byteLimit": 2048000,
      "rowLimit": 10000
     },
     "inputWidgets": {},
     "nuid": "82672025-6fe5-4c1a-94b1-532f55e208d7",
     "showTitle": false,
     "tableResultSettingsMap": {},
     "title": ""
    }
   },
   "outputs": [],
   "source": [
    "insert overwrite dim_calendar\n",
    "--Set the date range in the dates CTE below\n",
    "with dates as (\n",
    "  select explode(sequence(current_date() - interval 5 years, current_date(), interval 1 day)) AS calendar_date\n",
    ")\n",
    "select\n",
    "  year(calendar_date) * 10000 + month(calendar_date) * 100 + day(calendar_date) as date_int,\n",
    "  calendar_date,\n",
    "  year(calendar_date) AS calendar_year,\n",
    "  date_format(calendar_date, 'MMMM') as calendar_month,\n",
    "  month(calendar_date) as month_of_year,\n",
    "  date_format(calendar_date, 'EEEE') as calendar_day,\n",
    "  dayofweek(calendar_date) AS day_of_week,\n",
    "  weekday(calendar_date) + 1 as day_of_week_start_monday,\n",
    "  case\n",
    "    when weekday(calendar_date) < 5 then 'Y'\n",
    "    else 'N'\n",
    "  end as is_week_day,\n",
    "  dayofmonth(calendar_date) as day_of_month,\n",
    "  case\n",
    "    when calendar_date = last_day(calendar_date) then 'Y'\n",
    "    else 'N'\n",
    "  end as is_last_day_of_month,\n",
    "  dayofyear(calendar_date) as day_of_year,\n",
    "  weekofyear(calendar_date) as week_of_year_iso,\n",
    "  quarter(calendar_date) as quarter_of_year,\n",
    "  /* Fiscal period examples */\n",
    "  case\n",
    "    when month(calendar_date) >= 10 then year(calendar_date) + 1\n",
    "    else year(calendar_date)\n",
    "  end as fiscal_year_oct_to_sep,\n",
    "  (month(calendar_date) + 2) % 12 + 1 AS fiscal_month_oct_to_sep,\n",
    "  case\n",
    "    when month(calendar_date) >= 7 then year(calendar_date) + 1\n",
    "    else year(calendar_date)\n",
    "  end as fiscal_year_jul_to_jun,\n",
    "  (month(calendar_date) + 5) % 12 + 1 AS fiscal_month_jul_to_jun\n",
    "from\n",
    "  dates\n",
    "order by\n",
    "  calendar_date;"
   ]
  },
  {
   "cell_type": "code",
   "execution_count": 0,
   "metadata": {
    "application/vnd.databricks.v1+cell": {
     "cellMetadata": {
      "byteLimit": 2048000,
      "rowLimit": 10000
     },
     "inputWidgets": {},
     "nuid": "40fc77c7-27bc-4d56-ab42-f5798ccb592b",
     "showTitle": true,
     "tableResultSettingsMap": {},
     "title": "Optimize"
    }
   },
   "outputs": [],
   "source": [
    "optimize dim_calendar"
   ]
  },
  {
   "cell_type": "code",
   "execution_count": 0,
   "metadata": {
    "application/vnd.databricks.v1+cell": {
     "cellMetadata": {
      "byteLimit": 2048000,
      "rowLimit": 10000
     },
     "inputWidgets": {},
     "nuid": "f8e1dc09-af7c-43bb-a7ea-3428a219f889",
     "showTitle": true,
     "tableResultSettingsMap": {},
     "title": "Vacuum"
    }
   },
   "outputs": [],
   "source": [
    "vacuum dim_calendar"
   ]
  }
 ],
 "metadata": {
  "application/vnd.databricks.v1+notebook": {
   "computePreferences": null,
   "dashboards": [],
   "environmentMetadata": null,
   "inputWidgetPreferences": null,
   "language": "sql",
   "notebookMetadata": {},
   "notebookName": "dim_calendar",
   "widgets": {
    "catalog": {
     "currentValue": "main",
     "nuid": "8c6a5e3d-f8e5-497e-8294-98af9f81b33f",
     "typedWidgetInfo": {
      "autoCreated": false,
      "defaultValue": "main",
      "label": "",
      "name": "catalog",
      "options": {
       "widgetDisplayType": "Text",
       "validationRegex": null
      },
      "parameterDataType": "String"
     },
     "widgetInfo": {
      "widgetType": "text",
      "defaultValue": "main",
      "label": "",
      "name": "catalog",
      "options": {
       "widgetType": "text",
       "autoCreated": false,
       "validationRegex": null
      }
     }
    },
    "schema": {
     "currentValue": "chris_koester",
     "nuid": "373bc431-103d-452f-932b-2760d79bc12b",
     "typedWidgetInfo": {
      "autoCreated": false,
      "defaultValue": "edw",
      "label": "",
      "name": "schema",
      "options": {
       "widgetDisplayType": "Text",
       "validationRegex": null
      },
      "parameterDataType": "String"
     },
     "widgetInfo": {
      "widgetType": "text",
      "defaultValue": "edw",
      "label": "",
      "name": "schema",
      "options": {
       "widgetType": "text",
       "autoCreated": false,
       "validationRegex": null
      }
     }
    }
   }
  },
  "language_info": {
   "name": "sql"
  }
 },
 "nbformat": 4,
 "nbformat_minor": 0
}
